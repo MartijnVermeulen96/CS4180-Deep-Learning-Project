{
 "cells": [
  {
   "cell_type": "code",
   "execution_count": 3,
   "metadata": {},
   "outputs": [
    {
     "ename": "SyntaxError",
     "evalue": "invalid syntax (<ipython-input-3-c61d3c83a8dc>, line 1)",
     "output_type": "error",
     "traceback": [
      "\u001b[0;36m  File \u001b[0;32m\"<ipython-input-3-c61d3c83a8dc>\"\u001b[0;36m, line \u001b[0;32m1\u001b[0m\n\u001b[0;31m    from gans-n-gmms-NDB.utils.ndb import *\u001b[0m\n\u001b[0m             ^\u001b[0m\n\u001b[0;31mSyntaxError\u001b[0m\u001b[0;31m:\u001b[0m invalid syntax\n"
     ]
    }
   ],
   "source": [
    "from gans-n-gmms-NDB.utils.ndb import *"
   ]
  },
  {
   "cell_type": "code",
   "execution_count": 2,
   "metadata": {},
   "outputs": [
    {
     "ename": "ModuleNotFoundError",
     "evalue": "No module named 'utils'",
     "output_type": "error",
     "traceback": [
      "\u001b[0;31m---------------------------------------------------------------------------\u001b[0m",
      "\u001b[0;31mModuleNotFoundError\u001b[0m                       Traceback (most recent call last)",
      "\u001b[0;32m<ipython-input-2-0660810a9adb>\u001b[0m in \u001b[0;36m<module>\u001b[0;34m\u001b[0m\n\u001b[1;32m      5\u001b[0m \u001b[0;32mimport\u001b[0m \u001b[0mglob\u001b[0m\u001b[0;34m\u001b[0m\u001b[0;34m\u001b[0m\u001b[0m\n\u001b[1;32m      6\u001b[0m \u001b[0;32mimport\u001b[0m \u001b[0mtensorflow\u001b[0m \u001b[0;32mas\u001b[0m \u001b[0mtf\u001b[0m\u001b[0;34m\u001b[0m\u001b[0;34m\u001b[0m\u001b[0m\n\u001b[0;32m----> 7\u001b[0;31m \u001b[0;32mfrom\u001b[0m \u001b[0mutils\u001b[0m \u001b[0;32mimport\u001b[0m \u001b[0mimage_batch_provider\u001b[0m\u001b[0;34m\u001b[0m\u001b[0;34m\u001b[0m\u001b[0m\n\u001b[0m\u001b[1;32m      8\u001b[0m \u001b[0;34m\u001b[0m\u001b[0m\n",
      "\u001b[0;31mModuleNotFoundError\u001b[0m: No module named 'utils'"
     ]
    }
   ],
   "source": [
    "import os\n",
    "import cv2\n",
    "import numpy as np\n",
    "from PIL import Image\n",
    "import glob\n",
    "import tensorflow as tf\n",
    "from utils import image_batch_provider\n",
    " \n"
   ]
  },
  {
   "cell_type": "code",
   "execution_count": 6,
   "metadata": {},
   "outputs": [],
   "source": [
    "train_folder = \"data_to_score/source_landscape64\"\n",
    "test_folder = \"data_to_score/landscapeGANGogh\""
   ]
  },
  {
   "cell_type": "code",
   "execution_count": null,
   "metadata": {},
   "outputs": [],
   "source": []
  },
  {
   "cell_type": "code",
   "execution_count": 9,
   "metadata": {},
   "outputs": [
    {
     "name": "stdout",
     "output_type": "stream",
     "text": [
      "Starting image batch provider for ../data_to_score/source_landscape64 - 11218/0 (train/test) images.\n",
      "@Starting image batch provider for ../data_to_score/landscapeGANGogh - 768/0 (train/test) images.\n",
      "@Performing K-Means clustering of 11218 samples in dimension 2048 / 12288 to 100 clusters ...\n",
      "Can take a couple of minutes...\n",
      "Done.\n"
     ]
    }
   ],
   "source": [
    "num_train = len(glob.glob(train_folder+\"/*\"))\n",
    "num_test = len(glob.glob(test_folder+\"/*\"))\n",
    "\n",
    "train_image_provider = image_batch_provider.ImageBatchProvider(train_folder, test_set_ratio=0, flatten=True)\n",
    "target_image_provider = image_batch_provider.ImageBatchProvider(test_folder,test_set_ratio=0, flatten=True)                   \n",
    "    \n",
    "ndb_scorer = NDB(train_image_provider.get_random_samples(num_train))"
   ]
  },
  {
   "cell_type": "code",
   "execution_count": 10,
   "metadata": {},
   "outputs": [
    {
     "name": "stdout",
     "output_type": "stream",
     "text": [
      "Calculating bin assignments for 768 samples...\n",
      "....................................................................................................\n",
      "NDB = 49 NDB/K = 0.49 , JS = 0.1284131976235661\n"
     ]
    },
    {
     "data": {
      "text/plain": [
       "{'NDB': 49,\n",
       " 'JS': 0.1284131976235661,\n",
       " 'Proportions': array([0.00390625, 0.00651042, 0.        , 0.00651042, 0.        ,\n",
       "        0.0234375 , 0.02864583, 0.0078125 , 0.02734375, 0.0078125 ,\n",
       "        0.02994792, 0.0078125 , 0.00390625, 0.03255208, 0.02604167,\n",
       "        0.0234375 , 0.00130208, 0.        , 0.        , 0.02083333,\n",
       "        0.        , 0.00911458, 0.02994792, 0.0078125 , 0.00651042,\n",
       "        0.00911458, 0.00390625, 0.01171875, 0.        , 0.02083333,\n",
       "        0.00651042, 0.01302083, 0.01302083, 0.01432292, 0.00651042,\n",
       "        0.00651042, 0.01692708, 0.01432292, 0.01041667, 0.00260417,\n",
       "        0.00651042, 0.02473958, 0.00260417, 0.00651042, 0.00130208,\n",
       "        0.01302083, 0.        , 0.00651042, 0.        , 0.02994792,\n",
       "        0.00911458, 0.02604167, 0.00911458, 0.02083333, 0.015625  ,\n",
       "        0.        , 0.00260417, 0.00130208, 0.015625  , 0.00260417,\n",
       "        0.0078125 , 0.0078125 , 0.01953125, 0.        , 0.0234375 ,\n",
       "        0.00911458, 0.01302083, 0.01302083, 0.        , 0.00390625,\n",
       "        0.01302083, 0.03515625, 0.02213542, 0.0234375 , 0.        ,\n",
       "        0.00260417, 0.01171875, 0.00260417, 0.01171875, 0.00911458,\n",
       "        0.01432292, 0.        , 0.02864583, 0.00260417, 0.00651042,\n",
       "        0.        , 0.        , 0.01302083, 0.        , 0.0078125 ,\n",
       "        0.00911458, 0.00651042, 0.01302083, 0.00520833, 0.0078125 ,\n",
       "        0.        , 0.00130208, 0.        , 0.        , 0.        ]),\n",
       " 'N': 768,\n",
       " 'Bin-Assignment': array([71, 71,  1, 52, 12, 70, 15,  5, 13, 37, 62, 24, 25, 11, 34, 93, 21,\n",
       "         6, 70,  1, 61, 38, 45, 47, 58, 66, 94, 83, 32, 72, 72, 51, 42, 92,\n",
       "         0, 89, 12, 76, 79, 67,  7, 14, 22, 27, 80, 40, 73, 72, 52, 64, 33,\n",
       "        30, 14, 72,  5, 71, 52, 87, 24, 38,  6, 14,  6, 27, 65, 87, 70, 22,\n",
       "         0, 33, 35, 53, 10, 38, 15, 62, 27, 51, 24, 32, 87, 22, 56, 53,  7,\n",
       "        38, 22, 49, 40,  3, 25, 49, 22, 15, 66, 73, 19, 38, 78, 19,  8,  6,\n",
       "        51, 32, 87, 64,  5, 50, 72,  8, 80, 27, 15, 22, 15,  6, 32,  9, 82,\n",
       "        53, 73, 45, 71, 11, 78, 58, 62, 14, 53, 82, 15, 10, 15,  3, 70, 21,\n",
       "        59, 82, 44, 51, 13, 82, 13,  8, 64, 22, 82, 47, 36, 41, 73, 19, 62,\n",
       "        41, 32, 21, 66, 31, 22, 41, 66, 54, 43, 41, 84, 29, 93, 67, 45, 35,\n",
       "        73, 22,  8, 19,  6, 19, 11, 78, 76, 45, 10, 10, 65, 62, 53, 13, 52,\n",
       "        60, 87, 71, 80, 67, 54,  6, 49, 78, 65, 37, 80, 22, 15,  6, 79, 76,\n",
       "        22,  8, 53, 15,  6, 64, 71, 13, 36, 49,  3, 62, 94, 10, 66, 60, 89,\n",
       "         8, 41,  8, 29, 29, 64, 42, 61,  6, 35, 58, 67, 78, 19, 34,  6, 13,\n",
       "        13,  5, 30, 49, 52, 80, 40, 53, 82, 13, 13, 19,  7, 43, 23, 50, 10,\n",
       "        51, 60, 45, 64, 82, 72, 41, 51, 58, 13, 72, 33, 30, 79, 43, 14, 58,\n",
       "        39, 50, 15,  1, 49,  5, 31,  5, 54, 73, 29, 71, 19, 22, 82, 41, 76,\n",
       "        31, 90, 19, 22, 62, 56, 36, 32, 87, 78, 53, 15, 51, 10, 22, 89, 70,\n",
       "        64, 14, 24, 22, 29, 26, 66, 80, 70,  8, 12, 14, 14, 64, 49, 21, 73,\n",
       "        32, 37, 66, 80, 25,  8, 47, 61, 61, 64, 73,  8, 58,  3, 90, 13, 31,\n",
       "        22, 19, 29, 60, 33, 54, 71, 71, 71, 75, 64, 14, 10, 59, 21,  8, 38,\n",
       "        49, 36, 77, 23, 21, 78, 66, 72, 72, 73, 29, 14, 53, 34, 84, 82, 71,\n",
       "        65, 82,  6, 51, 58,  7, 41, 31,  6, 73, 27, 10, 79, 34, 14, 49, 87,\n",
       "         9, 73, 66, 67, 13, 62, 72, 83, 92, 13, 37, 58, 49, 11, 67, 43, 53,\n",
       "        64, 10, 10, 79, 89, 52, 35, 72, 30, 53, 54, 36, 45, 71, 87, 41, 33,\n",
       "        92, 30, 49, 62,  5, 49, 49, 31, 94, 90,  5, 45, 71, 71, 54, 49, 82,\n",
       "        49,  5, 89, 50, 10, 69, 41, 73, 64, 64, 82,  9,  5, 92, 19,  6, 53,\n",
       "        51, 60, 49,  5, 10, 78, 19,  9, 29, 93, 61, 13, 72, 43, 23, 64, 19,\n",
       "         8, 72, 37, 14, 58, 10, 58, 33, 58, 14,  8,  8, 54, 92, 71, 10, 13,\n",
       "        62,  6,  6, 51, 32, 78, 94, 51, 10, 62, 54, 62,  8, 15, 64, 26, 72,\n",
       "        41, 73, 60, 13, 13, 49, 82, 76,  7, 71,  6, 25, 71, 54, 72, 37, 58,\n",
       "        19, 38, 14, 27, 87, 53, 82, 19, 92, 11,  9, 10, 65, 64, 15, 90, 71,\n",
       "        91, 67, 22, 15, 54, 41, 70, 36, 27, 71, 77, 27, 37, 71, 37, 93, 36,\n",
       "        76, 80, 92,  5, 84, 49,  6, 37, 82,  3, 11, 91, 13,  8, 47, 50, 31,\n",
       "        49, 61, 39, 67, 71, 82, 29, 33, 21, 25, 36, 32, 41, 22,  8, 22, 69,\n",
       "        10, 15,  6, 72, 45, 26, 52, 41, 29, 14,  5, 40, 31, 64, 14, 80, 51,\n",
       "        14, 45,  5, 76, 41, 41, 10,  5, 51, 25, 10, 13, 14, 36,  6, 33, 79,\n",
       "        13, 94, 62, 73, 33, 35,  8, 91, 25, 62, 71, 82, 50, 75, 23, 27, 62,\n",
       "        15, 37, 65, 13, 82, 73,  5, 32, 22,  7, 53,  1, 33, 79, 54, 90, 51,\n",
       "         6, 67, 65, 13, 22, 49,  1, 40, 90, 23, 73,  9, 14, 89, 70,  8, 53,\n",
       "        73, 53, 15, 24, 14, 31, 76, 10, 51, 84, 96, 51,  5, 31, 49, 23, 41,\n",
       "        36, 80, 72, 66,  8, 82, 13, 84,  8, 41, 29, 91,  0,  6, 37, 51, 71,\n",
       "        80, 71, 91, 71, 69, 94, 67, 10, 76, 29, 70, 51, 50, 64, 87, 13, 47,\n",
       "        54, 82, 10, 36, 29, 29, 33, 36, 45, 19, 41, 34, 92, 22, 38, 36, 92,\n",
       "        90, 15, 29, 51, 57, 71, 73, 51, 82, 82, 29, 70,  5, 22, 16, 49, 13,\n",
       "        49, 92, 71]),\n",
       " 'Different-Bins': array([ True,  True,  True,  True,  True, False,  True,  True,  True,\n",
       "        False,  True, False,  True,  True,  True,  True,  True,  True,\n",
       "         True, False,  True, False,  True, False, False, False,  True,\n",
       "        False,  True,  True, False, False, False, False, False, False,\n",
       "        False, False, False,  True, False,  True,  True, False,  True,\n",
       "        False,  True, False,  True,  True, False,  True, False,  True,\n",
       "        False,  True, False,  True,  True, False, False, False,  True,\n",
       "         True,  True, False, False, False,  True, False, False,  True,\n",
       "         True,  True,  True, False, False, False, False, False,  True,\n",
       "         True,  True, False, False,  True,  True,  True,  True, False,\n",
       "        False, False,  True, False, False, False, False, False, False,\n",
       "        False])}"
      ]
     },
     "execution_count": 10,
     "metadata": {},
     "output_type": "execute_result"
    }
   ],
   "source": [
    "print((train_folder, test_folder))\n",
    "ndb_scorer.evaluate(target_image_provider.get_random_samples(num_test))\n"
   ]
  },
  {
   "cell_type": "code",
   "execution_count": null,
   "metadata": {},
   "outputs": [],
   "source": []
  }
 ],
 "metadata": {
  "kernelspec": {
   "display_name": "Python 3",
   "language": "python",
   "name": "python3"
  },
  "language_info": {
   "codemirror_mode": {
    "name": "ipython",
    "version": 3
   },
   "file_extension": ".py",
   "mimetype": "text/x-python",
   "name": "python",
   "nbconvert_exporter": "python",
   "pygments_lexer": "ipython3",
   "version": "3.7.3"
  }
 },
 "nbformat": 4,
 "nbformat_minor": 2
}
