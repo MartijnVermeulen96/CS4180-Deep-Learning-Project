{
 "cells": [
  {
   "cell_type": "code",
   "execution_count": 1,
   "metadata": {},
   "outputs": [],
   "source": [
    "from gansngmmsNDB.utils.ndb import *"
   ]
  },
  {
   "cell_type": "code",
   "execution_count": 3,
   "metadata": {},
   "outputs": [],
   "source": [
    "import os\n",
    "import cv2\n",
    "import numpy as np\n",
    "from PIL import Image\n",
    "import glob\n",
    "import tensorflow as tf\n",
    "from gansngmmsNDB.utils import image_batch_provider\n",
    " \n"
   ]
  },
  {
   "cell_type": "code",
   "execution_count": 4,
   "metadata": {},
   "outputs": [],
   "source": [
    "train_folder = \"data_to_score/source_landscape64\"\n",
    "test_folder = \"data_to_score/landscapeGANGogh\""
   ]
  },
  {
   "cell_type": "code",
   "execution_count": null,
   "metadata": {},
   "outputs": [],
   "source": []
  },
  {
   "cell_type": "code",
   "execution_count": 5,
   "metadata": {},
   "outputs": [
    {
     "name": "stdout",
     "output_type": "stream",
     "text": [
      "Starting image batch provider for data_to_score/source_landscape64 - 11218/0 (train/test) images.\n",
      "@Starting image batch provider for data_to_score/landscapeGANGogh - 768/0 (train/test) images.\n",
      "@Performing K-Means clustering of 11218 samples in dimension 2048 / 12288 to 100 clusters ...\n",
      "Can take a couple of minutes...\n",
      "Done.\n"
     ]
    }
   ],
   "source": [
    "num_train = len(glob.glob(train_folder+\"/*\"))\n",
    "num_test = len(glob.glob(test_folder+\"/*\"))\n",
    "\n",
    "train_image_provider = image_batch_provider.ImageBatchProvider(train_folder, test_set_ratio=0, flatten=True)\n",
    "target_image_provider = image_batch_provider.ImageBatchProvider(test_folder,test_set_ratio=0, flatten=True)                   \n",
    "    \n",
    "ndb_scorer = NDB(train_image_provider.get_random_samples(num_train))"
   ]
  },
  {
   "cell_type": "code",
   "execution_count": 6,
   "metadata": {},
   "outputs": [
    {
     "name": "stdout",
     "output_type": "stream",
     "text": [
      "('data_to_score/source_landscape64', 'data_to_score/landscapeGANGogh')\n",
      "Calculating bin assignments for 768 samples...\n",
      "....................................................................................................\n",
      "NDB = 43 NDB/K = 0.43 , JS = 0.12127212858169084\n"
     ]
    },
    {
     "data": {
      "text/plain": [
       "{'NDB': 43,\n",
       " 'JS': 0.12127212858169084,\n",
       " 'Proportions': array([0.        , 0.00651042, 0.015625  , 0.00651042, 0.01171875,\n",
       "        0.01953125, 0.02473958, 0.02864583, 0.01692708, 0.01432292,\n",
       "        0.0078125 , 0.        , 0.        , 0.        , 0.01171875,\n",
       "        0.0078125 , 0.00130208, 0.00520833, 0.02083333, 0.00520833,\n",
       "        0.00520833, 0.01692708, 0.0078125 , 0.00130208, 0.        ,\n",
       "        0.00911458, 0.02994792, 0.        , 0.00390625, 0.00260417,\n",
       "        0.02083333, 0.02083333, 0.        , 0.02473958, 0.0234375 ,\n",
       "        0.00651042, 0.01302083, 0.        , 0.00520833, 0.02083333,\n",
       "        0.015625  , 0.01302083, 0.01171875, 0.01171875, 0.02864583,\n",
       "        0.        , 0.015625  , 0.00520833, 0.03385417, 0.02213542,\n",
       "        0.01041667, 0.01171875, 0.00390625, 0.015625  , 0.00390625,\n",
       "        0.01692708, 0.        , 0.00651042, 0.02213542, 0.00520833,\n",
       "        0.03125   , 0.00260417, 0.00260417, 0.03776042, 0.02083333,\n",
       "        0.        , 0.00520833, 0.01822917, 0.00651042, 0.01692708,\n",
       "        0.00911458, 0.01822917, 0.01302083, 0.01432292, 0.        ,\n",
       "        0.00651042, 0.01171875, 0.01171875, 0.00260417, 0.00651042,\n",
       "        0.01432292, 0.00390625, 0.00651042, 0.00390625, 0.00260417,\n",
       "        0.00130208, 0.00260417, 0.0078125 , 0.015625  , 0.00130208,\n",
       "        0.00651042, 0.00130208, 0.        , 0.01953125, 0.        ,\n",
       "        0.        , 0.        , 0.        , 0.00651042, 0.        ]),\n",
       " 'N': 768,\n",
       " 'Bin-Assignment': array([ 7, 30, 49, 25, 71,  5, 31, 44, 21, 30, 60, 48,  2, 79, 58, 34, 22,\n",
       "        25, 22, 33, 49, 14, 63, 34, 48, 44, 63,  5, 10, 31, 75, 39, 46, 21,\n",
       "        58, 80,  1, 14, 25, 70,  7, 67, 38,  7, 15, 63, 79, 44, 42, 50, 60,\n",
       "        69, 51, 52, 73, 22, 15,  1,  5, 51,  5, 48,  7, 52, 40, 14, 88, 42,\n",
       "        44, 69,  9, 26, 76, 43, 63, 40, 29,  4, 26, 48, 26, 70, 90, 48,  7,\n",
       "        17,  7, 87, 71,  4, 64, 26, 38, 57, 77, 72, 34, 63, 18,  2, 33, 80,\n",
       "        54, 98, 44, 63, 79, 21, 29, 70, 54, 26, 14, 31, 72, 75, 22, 39,  9,\n",
       "        70, 39, 36, 26, 44, 81, 40, 62, 71, 69, 15,  2, 71,  4, 63,  7, 31,\n",
       "        39, 71, 93, 48, 64, 33, 41, 49, 46, 72, 93, 35, 88, 93, 53, 71, 88,\n",
       "        54, 60, 80, 77, 49, 76, 31, 41,  6,  2, 26, 71,  7, 31, 46, 63, 18,\n",
       "        69,  7, 10, 48,  2, 49, 26, 73, 63, 33, 44,  6, 60, 80,  6, 44, 85,\n",
       "        64, 39, 58, 38, 18, 88,  6, 39,  2, 41, 68, 71,  7, 25, 21,  6, 46,\n",
       "        69, 98, 46, 93, 90, 60, 46, 14, 60, 77,  4, 39, 26, 53, 83, 48, 25,\n",
       "        80, 33, 53,  7,  2, 48, 43, 17,  5, 31, 41, 67, 50, 44, 26, 18, 77,\n",
       "        21, 55, 72,  9, 76, 63, 44, 67, 90, 49, 49,  9, 69, 43, 58, 72, 67,\n",
       "        28, 69, 50, 68, 87, 70, 39, 28, 10, 18, 39, 82, 63, 31, 63, 60, 63,\n",
       "        71, 64, 42, 91, 80, 42, 53, 34, 40, 51, 75, 36, 89, 33, 67, 63, 34,\n",
       "        44,  6, 40, 98, 76, 48, 83, 15, 35,  5, 93, 49, 60, 36, 30, 55, 82,\n",
       "        31, 26, 30, 52, 58, 69, 64, 30, 68, 48, 63, 41, 64,  5, 90,  8, 39,\n",
       "        20, 39, 44, 86, 58, 17, 30, 55, 39, 84,  8,  8,  4, 18,  7, 67, 48,\n",
       "         9, 50, 58, 66,  5,  9, 82, 30, 63, 42, 30, 44, 30, 90, 30, 61, 50,\n",
       "        19, 60, 26, 48, 75, 48, 88, 26, 48, 10, 44, 43, 63, 77, 46, 23, 18,\n",
       "        60, 51, 39, 80, 93, 48, 60, 48, 16, 40, 88, 93, 33, 43, 60, 64, 71,\n",
       "        55, 44, 63, 40, 15, 98,  1, 93, 71, 80, 14, 33, 93,  8, 26,  6, 49,\n",
       "        35, 21, 19, 35, 33, 64, 19, 63, 87, 78, 76, 18, 63, 20, 63, 66, 63,\n",
       "        22, 18, 51, 25, 40, 57, 59, 88, 55, 88, 33, 60, 86, 73,  9,  6, 64,\n",
       "        42, 39, 20, 87, 33, 51,  4, 53, 71, 50, 88, 93,  6,  3,  5, 93,  8,\n",
       "        21, 49, 30, 55, 55, 67, 60,  6, 76, 63, 73, 66, 73, 21, 73, 36, 31,\n",
       "        48, 31, 36, 43,  9,  2, 46,  6, 69,  6, 64, 66, 47, 42, 31, 88, 30,\n",
       "        46, 44, 81, 63,  9, 39, 72, 48, 58, 58,  6, 34, 40,  5, 60, 76, 41,\n",
       "        46, 44, 14, 26,  6, 78, 18, 21, 87,  2, 49, 34, 49, 49, 57, 50, 10,\n",
       "        30, 46, 26,  6,  2, 47,  5,  8, 80, 69, 60, 44, 72, 49,  8, 18, 40,\n",
       "        77, 61,  8, 60, 57, 34, 63,  1, 58, 36, 31, 40, 34, 51, 18, 58, 55,\n",
       "        48,  7, 21, 53, 67, 53,  6, 57,  7,  8, 69, 72, 87, 19, 60, 64, 83,\n",
       "        53, 53, 59, 44, 58, 48, 77,  7, 82, 28, 25, 34, 48,  9, 34, 71, 49,\n",
       "         4, 93, 72, 33, 73, 50, 55, 48, 60,  2, 67, 15, 63, 43, 77, 58, 62,\n",
       "        38, 35, 55, 49, 49, 17, 58,  7, 67, 36, 63, 53, 41, 36,  7, 59, 18,\n",
       "        73, 60,  5, 60, 34,  1, 76, 53, 67, 55, 81, 30, 43, 41, 70, 59, 55,\n",
       "        40,  5, 42, 36,  8, 26,  9, 33, 34, 55, 93, 68,  2, 70,  3, 67, 79,\n",
       "        30, 30, 60, 64, 34,  5, 64, 18,  3, 64, 48, 44, 69, 39, 63, 75, 33,\n",
       "        44, 31, 26, 41, 73, 26, 36,  7, 60, 48,  4, 44, 18, 14, 51, 79,  3,\n",
       "        21, 21, 46, 22, 20, 41, 34, 64, 58, 43, 33,  7, 34, 18,  4, 14, 26,\n",
       "        10, 34, 84, 58,  7, 73, 93, 33, 73, 26,  8, 26, 67,  6, 98, 72, 93,\n",
       "        31, 80, 71,  6, 42,  7, 88, 69,  7, 31, 33, 82, 21, 47, 33, 63, 51,\n",
       "        67, 77, 53, 64, 26,  5,  6, 60, 76, 34,  3, 47, 33, 80,  8, 68, 88,\n",
       "        48, 58,  8]),\n",
       " 'Different-Bins': array([ True,  True, False,  True, False, False, False,  True, False,\n",
       "        False, False,  True,  True,  True, False, False,  True,  True,\n",
       "        False,  True,  True, False, False,  True,  True, False,  True,\n",
       "         True,  True,  True,  True,  True,  True,  True,  True, False,\n",
       "        False,  True, False,  True, False, False, False, False,  True,\n",
       "         True, False, False,  True,  True, False, False, False, False,\n",
       "        False,  True,  True, False,  True, False,  True, False, False,\n",
       "         True,  True,  True, False,  True, False,  True, False,  True,\n",
       "        False,  True,  True, False, False, False, False, False,  True,\n",
       "        False, False, False, False, False, False, False,  True, False,\n",
       "        False, False, False,  True, False, False, False, False, False,\n",
       "        False])}"
      ]
     },
     "execution_count": 6,
     "metadata": {},
     "output_type": "execute_result"
    }
   ],
   "source": [
    "print((train_folder, test_folder))\n",
    "ndb_scorer.evaluate(target_image_provider.get_random_samples(num_test))\n"
   ]
  },
  {
   "cell_type": "code",
   "execution_count": null,
   "metadata": {},
   "outputs": [],
   "source": []
  },
  {
   "cell_type": "code",
   "execution_count": null,
   "metadata": {},
   "outputs": [],
   "source": []
  }
 ],
 "metadata": {
  "kernelspec": {
   "display_name": "Python 3",
   "language": "python",
   "name": "python3"
  },
  "language_info": {
   "codemirror_mode": {
    "name": "ipython",
    "version": 3
   },
   "file_extension": ".py",
   "mimetype": "text/x-python",
   "name": "python",
   "nbconvert_exporter": "python",
   "pygments_lexer": "ipython3",
   "version": "3.7.3"
  }
 },
 "nbformat": 4,
 "nbformat_minor": 2
}
